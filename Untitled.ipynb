{
 "cells": [
  {
   "cell_type": "code",
   "execution_count": 1,
   "id": "639a9533",
   "metadata": {},
   "outputs": [
    {
     "name": "stdout",
     "output_type": "stream",
     "text": [
      "[[ 1  2  3]\n",
      " [ 2  3  4]\n",
      " [35 74 56]]\n",
      "[5 5 5]\n",
      "[[ 6  7  8]\n",
      " [ 7  8  9]\n",
      " [40 79 61]]\n"
     ]
    }
   ],
   "source": [
    "import numpy\n",
    "\n",
    "l1 = [[1, 2, 3], [2,3,4], [35,74,56]]\n",
    "l2 = [5, 5, 5]\n",
    "arr1 = numpy.array(l1)\n",
    "arr2 = numpy.array(l2)\n",
    "print(arr1)\n",
    "print(arr2)\n",
    "print(arr1+arr2)\n"
   ]
  },
  {
   "cell_type": "code",
   "execution_count": 61,
   "id": "09ef4036",
   "metadata": {},
   "outputs": [
    {
     "data": {
      "image/png": "[encoded data removed]",
      "text/plain": [
       "<Figure size 432x288 with 1 Axes>"
      ]
     },
     "metadata": {
      "needs_background": "light"
     },
     "output_type": "display_data"
    }
   ],
   "source": [
    "import matplotlib.pyplot as plt\n",
    "\n",
    "plt.plot(arr1)\n",
    "plt.plot(arr2)\n",
    "\n",
    "plt.xlabel('x')\n",
    "plt.ylabel('y')\n",
    "plt.show()\n"
   ]
  },
  {
   "cell_type": "code",
   "execution_count": 62,
   "id": "19fbd5f1",
   "metadata": {},
   "outputs": [
    {
     "data": {
      "image/png": "[encoded data removed]",
      "text/plain": [
       "<Figure size 432x288 with 1 Axes>"
      ]
     },
     "metadata": {
      "needs_background": "light"
     },
     "output_type": "display_data"
    }
   ],
   "source": [
    "import matplotlib.pyplot as plt\n",
    "import numpy as np\n",
    "\n",
    "arr = np.array([2,7,9,19,22,25,99])\n",
    "\n",
    "arr1 = np.array([2,7,9,19,22,25,99])\n",
    "arr2 = np.array([20,7,19,29,92,25,19])\n",
    "#plt.plot(arr)\n",
    "#plt.hist(arr)\n",
    "plt.scatter(arr1, arr2)\n",
    "plt.xlabel('X')\n",
    "plt.ylabel('Y')\n",
    "plt.show()"
   ]
  },
  {
   "cell_type": "markdown",
   "id": "11a37cba",
   "metadata": {},
   "source": [
    "# Data can be\n",
    "\n",
    "## Numerical \n",
    "### Continuous (infinite options - Age, weight, etc) or \n",
    "### Discrete (shoe size, how many books you read, etc)\n",
    "\n",
    "## Categorical\n",
    "### Ordinal(data has hierarchy - Pain severity, rating, mood) or\n",
    "### Nominal (data has no hierarchy - Eye color, dog breed, blood type)"
   ]
  },
  {
   "cell_type": "markdown",
   "id": "6d92b425",
   "metadata": {},
   "source": [
    "# Statistics\n",
    "\n",
    "## Data Central Tendency Measurements\n",
    "\n",
    "### Mean - sum of numbers divided by the quantity of numbers\n",
    "```np.mean(array)```\n",
    "### Median - sort and pick the middle value. Sum and divide by 2 if there are 2 numbers on the middle\n",
    "``` np.median(array)```\n",
    "### Mode - most common number\n",
    "```scipy.stats.mode()```"
   ]
  },
  {
   "cell_type": "code",
   "execution_count": 2,
   "id": "e4187da0",
   "metadata": {},
   "outputs": [
    {
     "ename": "ModuleNotFoundError",
     "evalue": "No module named 'scipy'",
     "output_type": "error",
     "traceback": [
      "\u001b[0;31m---------------------------------------------------------------------------\u001b[0m",
      "\u001b[0;31mModuleNotFoundError\u001b[0m                       Traceback (most recent call last)",
      "\u001b[0;32m/tmp/ipykernel_26034/1864158564.py\u001b[0m in \u001b[0;36m<module>\u001b[0;34m\u001b[0m\n\u001b[1;32m      1\u001b[0m \u001b[0;32mimport\u001b[0m \u001b[0mnumpy\u001b[0m \u001b[0;32mas\u001b[0m \u001b[0mnp\u001b[0m\u001b[0;34m\u001b[0m\u001b[0;34m\u001b[0m\u001b[0m\n\u001b[0;32m----> 2\u001b[0;31m \u001b[0;32mfrom\u001b[0m \u001b[0mscipy\u001b[0m \u001b[0;32mimport\u001b[0m \u001b[0mstats\u001b[0m\u001b[0;34m\u001b[0m\u001b[0;34m\u001b[0m\u001b[0m\n\u001b[0m\u001b[1;32m      3\u001b[0m \u001b[0;34m\u001b[0m\u001b[0m\n\u001b[1;32m      4\u001b[0m \u001b[0marr\u001b[0m \u001b[0;34m=\u001b[0m \u001b[0;34m[\u001b[0m\u001b[0;36m45\u001b[0m\u001b[0;34m,\u001b[0m\u001b[0;36m74\u001b[0m\u001b[0;34m,\u001b[0m\u001b[0;36m32\u001b[0m\u001b[0;34m,\u001b[0m\u001b[0;36m33\u001b[0m\u001b[0;34m,\u001b[0m\u001b[0;36m8\u001b[0m\u001b[0;34m,\u001b[0m\u001b[0;36m4\u001b[0m\u001b[0;34m,\u001b[0m\u001b[0;36m99\u001b[0m\u001b[0;34m,\u001b[0m\u001b[0;36m23\u001b[0m\u001b[0;34m,\u001b[0m \u001b[0;36m74\u001b[0m\u001b[0;34m,\u001b[0m \u001b[0;36m4\u001b[0m\u001b[0;34m]\u001b[0m\u001b[0;34m\u001b[0m\u001b[0;34m\u001b[0m\u001b[0m\n\u001b[1;32m      5\u001b[0m print(np.mean(arr),\n",
      "\u001b[0;31mModuleNotFoundError\u001b[0m: No module named 'scipy'"
     ]
    }
   ],
   "source": [
    "import numpy as np\n",
    "from scipy import stats\n",
    "\n",
    "arr = [45,74,32,33,8,4,99,23, 74, 4]\n",
    "print(np.mean(arr),\n",
    "np.median(arr), stats.mode(arr))"
   ]
  },
  {
   "cell_type": "code",
   "execution_count": null,
   "id": "1375d23f",
   "metadata": {},
   "outputs": [],
   "source": [
    "# Data Variance\n",
    "\n",
    "## Measure the data variability, which means the degree of spread in the dataset\n",
    "## The more spread the data, the larger the variance from the Mean value.\n",
    "\n",
    "# Standard Deviation\n",
    "## The square root of Variance"
   ]
  },
  {
   "cell_type": "code",
   "execution_count": 67,
   "id": "a814e13c",
   "metadata": {},
   "outputs": [
    {
     "name": "stdout",
     "output_type": "stream",
     "text": [
      "Data Variance =34.51555555555556, Standard Deviation = 5.874994089831543\n"
     ]
    }
   ],
   "source": [
    "import numpy as np\n",
    "\n",
    "arr = [80, 79, 70, 66, 77, 65, 71, 78, 66, 68, 67, 64, 71, 82, 68]\n",
    "print(f'Data Variance ={np.var(arr)}, Standard Deviation = {np.std(arr)}')"
   ]
  },
  {
   "cell_type": "markdown",
   "id": "b304336d",
   "metadata": {},
   "source": [
    "# Percentile\n",
    "## Describes the value that a given percent of the values are LOWER OR EQUAL THAN"
   ]
  },
  {
   "cell_type": "code",
   "execution_count": 68,
   "id": "e399dd35",
   "metadata": {},
   "outputs": [
    {
     "name": "stdout",
     "output_type": "stream",
     "text": [
      "70.0\n"
     ]
    }
   ],
   "source": [
    "import numpy as np\n",
    "\n",
    "arr = [80, 79, 70, 66, 77, 65, 71, 78, 66, 68, 67, 64, 71, 82, 68]\n",
    "\n",
    "perc5 = np.percentile(arr, 50)\n",
    "print(perc5)\n"
   ]
  },
  {
   "cell_type": "code",
   "execution_count": 87,
   "id": "05e22d5c",
   "metadata": {},
   "outputs": [
    {
     "name": "stdout",
     "output_type": "stream",
     "text": [
      "Data Variance =300.347104, Standard Deviation = 17.3305252084292\n"
     ]
    }
   ],
   "source": [
    "import numpy as np\n",
    "\n",
    "# create an uniform distribution array with 500 data from 60 to 119\n",
    "\n",
    "#for floats\n",
    "arr = np.random.uniform(60, 120, 500)\n",
    "#for ints\n",
    "arr = np.random.randint(60, 120, 500)\n",
    "# print(arr)\n",
    "print(f'Data Variance ={np.var(arr)}, Standard Deviation = {np.std(arr)}')\n"
   ]
  },
  {
   "cell_type": "code",
   "execution_count": 84,
   "id": "819f898c",
   "metadata": {},
   "outputs": [
    {
     "data": {
      "image/png": "[encoded data removed]",
      "text/plain": [
       "<Figure size 432x288 with 1 Axes>"
      ]
     },
     "metadata": {
      "needs_background": "light"
     },
     "output_type": "display_data"
    }
   ],
   "source": [
    "import matplotlib.pyplot as plt\n",
    "# args: 1- array, 2- bar quantity\n",
    "plt.hist(arr, 60)\n",
    "plt.show()"
   ]
  },
  {
   "cell_type": "code",
   "execution_count": 111,
   "id": "238dac74",
   "metadata": {},
   "outputs": [
    {
     "name": "stdout",
     "output_type": "stream",
     "text": [
      "Data Variance =27.895269436201716, Standard Deviation = 5.281597242899322\n"
     ]
    }
   ],
   "source": [
    "# Normal or Gaussian distribuition\n",
    "import numpy as np\n",
    "\n",
    "# arguments: \n",
    "# 1- distribuition center (mean)\n",
    "# 2- Std deviation (spread or width)\n",
    "# 3- Sample size\n",
    "nor = np.random.normal(0, 5, 400)\n",
    "print(f'Data Variance ={np.var(nor)}, Standard Deviation = {np.std(nor)}')\n",
    "# print(nor)"
   ]
  },
  {
   "cell_type": "code",
   "execution_count": 112,
   "id": "bb41d91d",
   "metadata": {},
   "outputs": [
    {
     "data": {
      "image/png": "[encoded data removed]",
      "text/plain": [
       "<Figure size 432x288 with 1 Axes>"
      ]
     },
     "metadata": {
      "needs_background": "light"
     },
     "output_type": "display_data"
    }
   ],
   "source": [
    "import matplotlib.pyplot as plt\n",
    "\n",
    "plt.hist(nor, 100)\n",
    "plt.show()"
   ]
  },
  {
   "cell_type": "code",
   "execution_count": 120,
   "id": "3f3839d8",
   "metadata": {},
   "outputs": [
    {
     "name": "stdout",
     "output_type": "stream",
     "text": [
      "0.816496580927726\n",
      "[-1.22474487  0.          1.22474487]\n"
     ]
    }
   ],
   "source": [
    "# z-score tells how many std deviations away a value is from the mean.\n",
    "# z = (X-μ)/σ\n",
    "# X = single raw data value\n",
    "# μ = population mean\n",
    "# σ = population std deviation\n",
    "\n",
    "from scipy import stats\n",
    "arr = [3, 4, 5]\n",
    "print(np.std(arr))\n",
    "z = stats.zscore(arr)\n",
    "print(z)"
   ]
  },
  {
   "cell_type": "code",
   "execution_count": null,
   "id": "c3af9a9e",
   "metadata": {},
   "outputs": [],
   "source": []
  }
 ],
 "metadata": {
  "kernelspec": {
   "display_name": "Python 3 (ipykernel)",
   "language": "python",
   "name": "python3"
  },
  "language_info": {
   "codemirror_mode": {
    "name": "ipython",
    "version": 3
   },
   "file_extension": ".py",
   "mimetype": "text/x-python",
   "name": "python",
   "nbconvert_exporter": "python",
   "pygments_lexer": "ipython3",
   "version": "3.10.0"
  }
 },
 "nbformat": 4,
 "nbformat_minor": 5
}
