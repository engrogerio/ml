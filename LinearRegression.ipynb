{
 "cells": [
  {
   "cell_type": "code",
   "execution_count": 8,
   "id": "0ae1c9a8",
   "metadata": {},
   "outputs": [],
   "source": [
    "import matplotlib.pyplot as plt\n",
    "from scipy.stats import stats\n"
   ]
  },
  {
   "cell_type": "code",
   "execution_count": 6,
   "id": "3a3e7dc5",
   "metadata": {},
   "outputs": [
    {
     "name": "stdout",
     "output_type": "stream",
     "text": [
      "13\n",
      "13\n"
     ]
    }
   ],
   "source": [
    "# define arrays\n",
    "age_x = [4,6,7,6,1,16,1,8,3,10,11,8,5]\n",
    "print(len(age_x))\n",
    "capacity_y = [98, 85, 86, 89, 112, 85, 101, 84, 93, 79, 76, 82, 81]\n",
    "print(len(capacity_y))"
   ]
  },
  {
   "cell_type": "code",
   "execution_count": 7,
   "id": "dd0881ff",
   "metadata": {},
   "outputs": [
    {
     "data": {
      "image/png": "[encoded data removed]",
      "text/plain": [
       "<Figure size 432x288 with 1 Axes>"
      ]
     },
     "metadata": {
      "needs_background": "light"
     },
     "output_type": "display_data"
    }
   ],
   "source": [
    "# draw the scatter plot\n",
    "\n",
    "plt.scatter(age_x, capacity_y)\n",
    "plt.show()"
   ]
  },
  {
   "cell_type": "code",
   "execution_count": 10,
   "id": "b60eb533",
   "metadata": {},
   "outputs": [],
   "source": [
    "# linear regression equation\n",
    "# y = mx + b\n",
    "# m slop\n",
    "# b = y intercept\n",
    "\n",
    "slope, intercept, r, p, std_error = stats.linregress(age_x, capacity_y)\n"
   ]
  },
  {
   "cell_type": "code",
   "execution_count": 27,
   "id": "2aaa4bad",
   "metadata": {},
   "outputs": [
    {
     "name": "stdout",
     "output_type": "stream",
     "text": [
      "-1.7472406181015454 100.0971302428256 -0.7247302493906514 0.005072361470237723 0.5008640038029926\n"
     ]
    }
   ],
   "source": [
    "print(slope, intercept, r, p, std_error)\n",
    "\n",
    "def find_new_y(x):\n",
    "    return slope * x + intercept"
   ]
  },
  {
   "cell_type": "code",
   "execution_count": 28,
   "id": "fd6ecf98",
   "metadata": {},
   "outputs": [
    {
     "name": "stdout",
     "output_type": "stream",
     "text": [
      "-0.7247302493906514\n"
     ]
    },
    {
     "data": {
      "image/png": "[encoded data removed]",
      "text/plain": [
       "<Figure size 432x288 with 1 Axes>"
      ]
     },
     "metadata": {
      "needs_background": "light"
     },
     "output_type": "display_data"
    }
   ],
   "source": [
    "# Plot scatter with regression line\n",
    "y_values = list(map(find_new_y, age_x))\n",
    "\n",
    "plt.scatter(age_x, capacity_y, label='original data')\n",
    "plt.plot(age_x, y_values, 'r', label='fitted line')\n",
    "plt.legend()\n",
    "print(r)"
   ]
  }
 ],
 "metadata": {
  "kernelspec": {
   "display_name": "Python 3 (ipykernel)",
   "language": "python",
   "name": "python3"
  },
  "language_info": {
   "codemirror_mode": {
    "name": "ipython",
    "version": 3
   },
   "file_extension": ".py",
   "mimetype": "text/x-python",
   "name": "python",
   "nbconvert_exporter": "python",
   "pygments_lexer": "ipython3",
   "version": "3.10.0"
  }
 },
 "nbformat": 4,
 "nbformat_minor": 5
}
